{
 "cells": [
  {
   "cell_type": "markdown",
   "id": "4eac0c58-74ec-4d47-bb50-ca03329102bf",
   "metadata": {},
   "source": [
    "**Text and Sequence**"
   ]
  },
  {
   "cell_type": "markdown",
   "id": "cfcfcabb-404c-440a-8167-d32b63c32dd7",
   "metadata": {},
   "source": [
    "Phani Varshitha, Durga Chowdary "
   ]
  },
  {
   "cell_type": "markdown",
   "id": "cdc9afd2-4e49-4de2-8a20-e7c5bb5c6b5d",
   "metadata": {},
   "source": [
    "We will be using IMDB data for this text and sequence problem. Firstly, we need to create a\n",
    "validation set with 80% of training dataset and setting apart 20% for training."
   ]
  },
  {
   "cell_type": "markdown",
   "id": "a5f217cf-3930-4d08-b21a-04fc2eba2e66",
   "metadata": {},
   "source": [
    "Reading Data"
   ]
  },
  {
   "cell_type": "code",
   "execution_count": 22,
   "id": "7d37c993-0c1d-4362-b38c-cd721d9bdb20",
   "metadata": {},
   "outputs": [],
   "source": [
    "import os, shutil , pathlib , random\n",
    "base_dir = pathlib.Path(\"C:/Users/varshitha/Downloads/aclImdb_v1/aclImdb\")\n",
    "val_dir= base_dir/\"validation\"\n",
    "train_dir=base_dir/\"train\"\n",
    "for category in (\"neg\",\"pos\"):\n",
    "    os.makedirs(val_dir/category)\n",
    "    files= os.listdir(train_dir/category)\n",
    "    random.Random(1337).shuffle(files)\n",
    "    num_val_samples = 5000\n",
    "    val_file = files[:num_val_samples]\n",
    "    for fname in val_file:\n",
    "        shutil.move(train_dir/category/fname,\n",
    "                    val_dir/category,fname)"
   ]
  },
  {
   "cell_type": "markdown",
   "id": "149179e4-063e-4b69-9065-47d1e195eef1",
   "metadata": {},
   "source": [
    "Making a small training sample as well :"
   ]
  },
  {
   "cell_type": "code",
   "execution_count": 23,
   "id": "66728175-d005-4f93-99eb-3e86bbd055c9",
   "metadata": {},
   "outputs": [],
   "source": [
    "train_dir_1 =base_dir/\"train1\"\n",
    "for category in (\"neg\",\"pos\"):\n",
    "     os.makedirs(train_dir_1/category)\n",
    "     files= os.listdir(train_dir/category)\n",
    "     random.Random(1337).shuffle(files)\n",
    "     num_train_samples = 50\n",
    "     train_file = files[:num_train_samples]\n",
    "     for fname in train_file:\n",
    "        shutil.move(train_dir/category/fname,\n",
    "                    train_dir_1/category,fname)"
   ]
  },
  {
   "cell_type": "markdown",
   "id": "a39811a9-2cef-4adc-8ca2-5ba7f253cdc8",
   "metadata": {},
   "source": [
    "Reading our datasets :"
   ]
  },
  {
   "cell_type": "code",
   "execution_count": 24,
   "id": "f930a634-3a4b-4666-8b58-f9265ee9c620",
   "metadata": {},
   "outputs": [
    {
     "name": "stdout",
     "output_type": "stream",
     "text": [
      "Found 100 files belonging to 2 classes.\n",
      "Found 10000 files belonging to 2 classes.\n",
      "Found 25000 files belonging to 2 classes.\n"
     ]
    }
   ],
   "source": [
    "from tensorflow import keras\n",
    "batch_size = 32\n",
    "train = keras.utils.text_dataset_from_directory (train_dir_1,batch_size=batch_size)\n",
    "validation=keras.utils.text_dataset_from_directory(val_dir,batch_size=batch_size)\n",
    "test=keras.utils.text_dataset_from_directory(base_dir/\n",
    "  \"test\",batch_size=batch_size)"
   ]
  },
  {
   "cell_type": "markdown",
   "id": "2eec41f5-85d0-489b-a7bf-b7ef66584cdb",
   "metadata": {},
   "source": [
    "Trying sequencing model:"
   ]
  },
  {
   "cell_type": "markdown",
   "id": "d6211631-d7cd-4ef3-b7d5-194de7dd7bd9",
   "metadata": {},
   "source": [
    "Preparing dataset for this model:"
   ]
  },
  {
   "cell_type": "code",
   "execution_count": 25,
   "id": "555d179d-735e-409b-b4f4-951251028a72",
   "metadata": {},
   "outputs": [],
   "source": [
    "from tensorflow.keras import layers\n",
    "max_length = 150 # Cutting off values after 150 words\n",
    "max_tokens = 10000 # Considering only top 10,000 words\n",
    "text_vectorization = layers.TextVectorization(\n",
    "      max_tokens=max_tokens,\n",
    "      output_mode=\"int\",\n",
    "      output_sequence_length=max_length,\n",
    ")\n",
    "text_only_train_ds = train.map(lambda x, y: x)\n",
    "# Turning text to vectors\n",
    "text_vectorization.adapt(text_only_train_ds)\n",
    "int_train_ds = train.map(\n",
    "lambda x, y: (text_vectorization(x), y), num_parallel_calls=4)\n",
    "int_val_ds = validation.map(\n",
    "lambda x, y: (text_vectorization(x), y), num_parallel_calls=4)\n",
    "int_test_ds = test.map(\n",
    "lambda x, y: (text_vectorization(x), y), num_parallel_calls=4)\n"
   ]
  },
  {
   "cell_type": "markdown",
   "id": "09e9944b-a4ff-4ac0-a434-b6be6564d0ec",
   "metadata": {},
   "source": [
    "Model Construction - Embedding Layer:"
   ]
  },
  {
   "cell_type": "code",
   "execution_count": 26,
   "id": "b42e331a-fd2a-4d45-8b55-643076a0d88b",
   "metadata": {},
   "outputs": [
    {
     "data": {
      "text/html": [
       "<pre style=\"white-space:pre;overflow-x:auto;line-height:normal;font-family:Menlo,'DejaVu Sans Mono',consolas,'Courier New',monospace\"><span style=\"font-weight: bold\">Model: \"functional_3\"</span>\n",
       "</pre>\n"
      ],
      "text/plain": [
       "\u001b[1mModel: \"functional_3\"\u001b[0m\n"
      ]
     },
     "metadata": {},
     "output_type": "display_data"
    },
    {
     "data": {
      "text/html": [
       "<pre style=\"white-space:pre;overflow-x:auto;line-height:normal;font-family:Menlo,'DejaVu Sans Mono',consolas,'Courier New',monospace\">┏━━━━━━━━━━━━━━━━━━━━━━━━━━━━━━━┳━━━━━━━━━━━━━━━━━━━━━━━━━━━┳━━━━━━━━━━━━━━━━━┳━━━━━━━━━━━━━━━━━━━━━━━━━━━━┓\n",
       "┃<span style=\"font-weight: bold\"> Layer (type)                  </span>┃<span style=\"font-weight: bold\"> Output Shape              </span>┃<span style=\"font-weight: bold\">         Param # </span>┃<span style=\"font-weight: bold\"> Connected to               </span>┃\n",
       "┡━━━━━━━━━━━━━━━━━━━━━━━━━━━━━━━╇━━━━━━━━━━━━━━━━━━━━━━━━━━━╇━━━━━━━━━━━━━━━━━╇━━━━━━━━━━━━━━━━━━━━━━━━━━━━┩\n",
       "│ input_layer_1 (<span style=\"color: #0087ff; text-decoration-color: #0087ff\">InputLayer</span>)    │ (<span style=\"color: #00d7ff; text-decoration-color: #00d7ff\">None</span>, <span style=\"color: #00d7ff; text-decoration-color: #00d7ff\">None</span>)              │               <span style=\"color: #00af00; text-decoration-color: #00af00\">0</span> │ -                          │\n",
       "├───────────────────────────────┼───────────────────────────┼─────────────────┼────────────────────────────┤\n",
       "│ embedding_1 (<span style=\"color: #0087ff; text-decoration-color: #0087ff\">Embedding</span>)       │ (<span style=\"color: #00d7ff; text-decoration-color: #00d7ff\">None</span>, <span style=\"color: #00d7ff; text-decoration-color: #00d7ff\">None</span>, <span style=\"color: #00af00; text-decoration-color: #00af00\">256</span>)         │       <span style=\"color: #00af00; text-decoration-color: #00af00\">2,560,000</span> │ input_layer_1[<span style=\"color: #00af00; text-decoration-color: #00af00\">0</span>][<span style=\"color: #00af00; text-decoration-color: #00af00\">0</span>]        │\n",
       "├───────────────────────────────┼───────────────────────────┼─────────────────┼────────────────────────────┤\n",
       "│ not_equal_1 (<span style=\"color: #0087ff; text-decoration-color: #0087ff\">NotEqual</span>)        │ (<span style=\"color: #00d7ff; text-decoration-color: #00d7ff\">None</span>, <span style=\"color: #00d7ff; text-decoration-color: #00d7ff\">None</span>)              │               <span style=\"color: #00af00; text-decoration-color: #00af00\">0</span> │ input_layer_1[<span style=\"color: #00af00; text-decoration-color: #00af00\">0</span>][<span style=\"color: #00af00; text-decoration-color: #00af00\">0</span>]        │\n",
       "├───────────────────────────────┼───────────────────────────┼─────────────────┼────────────────────────────┤\n",
       "│ bidirectional_1               │ (<span style=\"color: #00d7ff; text-decoration-color: #00d7ff\">None</span>, <span style=\"color: #00af00; text-decoration-color: #00af00\">64</span>)                │          <span style=\"color: #00af00; text-decoration-color: #00af00\">73,984</span> │ embedding_1[<span style=\"color: #00af00; text-decoration-color: #00af00\">0</span>][<span style=\"color: #00af00; text-decoration-color: #00af00\">0</span>],         │\n",
       "│ (<span style=\"color: #0087ff; text-decoration-color: #0087ff\">Bidirectional</span>)               │                           │                 │ not_equal_1[<span style=\"color: #00af00; text-decoration-color: #00af00\">0</span>][<span style=\"color: #00af00; text-decoration-color: #00af00\">0</span>]          │\n",
       "├───────────────────────────────┼───────────────────────────┼─────────────────┼────────────────────────────┤\n",
       "│ dropout_1 (<span style=\"color: #0087ff; text-decoration-color: #0087ff\">Dropout</span>)           │ (<span style=\"color: #00d7ff; text-decoration-color: #00d7ff\">None</span>, <span style=\"color: #00af00; text-decoration-color: #00af00\">64</span>)                │               <span style=\"color: #00af00; text-decoration-color: #00af00\">0</span> │ bidirectional_1[<span style=\"color: #00af00; text-decoration-color: #00af00\">0</span>][<span style=\"color: #00af00; text-decoration-color: #00af00\">0</span>]      │\n",
       "├───────────────────────────────┼───────────────────────────┼─────────────────┼────────────────────────────┤\n",
       "│ dense_1 (<span style=\"color: #0087ff; text-decoration-color: #0087ff\">Dense</span>)               │ (<span style=\"color: #00d7ff; text-decoration-color: #00d7ff\">None</span>, <span style=\"color: #00af00; text-decoration-color: #00af00\">1</span>)                 │              <span style=\"color: #00af00; text-decoration-color: #00af00\">65</span> │ dropout_1[<span style=\"color: #00af00; text-decoration-color: #00af00\">0</span>][<span style=\"color: #00af00; text-decoration-color: #00af00\">0</span>]            │\n",
       "└───────────────────────────────┴───────────────────────────┴─────────────────┴────────────────────────────┘\n",
       "</pre>\n"
      ],
      "text/plain": [
       "┏━━━━━━━━━━━━━━━━━━━━━━━━━━━━━━━┳━━━━━━━━━━━━━━━━━━━━━━━━━━━┳━━━━━━━━━━━━━━━━━┳━━━━━━━━━━━━━━━━━━━━━━━━━━━━┓\n",
       "┃\u001b[1m \u001b[0m\u001b[1mLayer (type)                 \u001b[0m\u001b[1m \u001b[0m┃\u001b[1m \u001b[0m\u001b[1mOutput Shape             \u001b[0m\u001b[1m \u001b[0m┃\u001b[1m \u001b[0m\u001b[1m        Param #\u001b[0m\u001b[1m \u001b[0m┃\u001b[1m \u001b[0m\u001b[1mConnected to              \u001b[0m\u001b[1m \u001b[0m┃\n",
       "┡━━━━━━━━━━━━━━━━━━━━━━━━━━━━━━━╇━━━━━━━━━━━━━━━━━━━━━━━━━━━╇━━━━━━━━━━━━━━━━━╇━━━━━━━━━━━━━━━━━━━━━━━━━━━━┩\n",
       "│ input_layer_1 (\u001b[38;5;33mInputLayer\u001b[0m)    │ (\u001b[38;5;45mNone\u001b[0m, \u001b[38;5;45mNone\u001b[0m)              │               \u001b[38;5;34m0\u001b[0m │ -                          │\n",
       "├───────────────────────────────┼───────────────────────────┼─────────────────┼────────────────────────────┤\n",
       "│ embedding_1 (\u001b[38;5;33mEmbedding\u001b[0m)       │ (\u001b[38;5;45mNone\u001b[0m, \u001b[38;5;45mNone\u001b[0m, \u001b[38;5;34m256\u001b[0m)         │       \u001b[38;5;34m2,560,000\u001b[0m │ input_layer_1[\u001b[38;5;34m0\u001b[0m][\u001b[38;5;34m0\u001b[0m]        │\n",
       "├───────────────────────────────┼───────────────────────────┼─────────────────┼────────────────────────────┤\n",
       "│ not_equal_1 (\u001b[38;5;33mNotEqual\u001b[0m)        │ (\u001b[38;5;45mNone\u001b[0m, \u001b[38;5;45mNone\u001b[0m)              │               \u001b[38;5;34m0\u001b[0m │ input_layer_1[\u001b[38;5;34m0\u001b[0m][\u001b[38;5;34m0\u001b[0m]        │\n",
       "├───────────────────────────────┼───────────────────────────┼─────────────────┼────────────────────────────┤\n",
       "│ bidirectional_1               │ (\u001b[38;5;45mNone\u001b[0m, \u001b[38;5;34m64\u001b[0m)                │          \u001b[38;5;34m73,984\u001b[0m │ embedding_1[\u001b[38;5;34m0\u001b[0m][\u001b[38;5;34m0\u001b[0m],         │\n",
       "│ (\u001b[38;5;33mBidirectional\u001b[0m)               │                           │                 │ not_equal_1[\u001b[38;5;34m0\u001b[0m][\u001b[38;5;34m0\u001b[0m]          │\n",
       "├───────────────────────────────┼───────────────────────────┼─────────────────┼────────────────────────────┤\n",
       "│ dropout_1 (\u001b[38;5;33mDropout\u001b[0m)           │ (\u001b[38;5;45mNone\u001b[0m, \u001b[38;5;34m64\u001b[0m)                │               \u001b[38;5;34m0\u001b[0m │ bidirectional_1[\u001b[38;5;34m0\u001b[0m][\u001b[38;5;34m0\u001b[0m]      │\n",
       "├───────────────────────────────┼───────────────────────────┼─────────────────┼────────────────────────────┤\n",
       "│ dense_1 (\u001b[38;5;33mDense\u001b[0m)               │ (\u001b[38;5;45mNone\u001b[0m, \u001b[38;5;34m1\u001b[0m)                 │              \u001b[38;5;34m65\u001b[0m │ dropout_1[\u001b[38;5;34m0\u001b[0m][\u001b[38;5;34m0\u001b[0m]            │\n",
       "└───────────────────────────────┴───────────────────────────┴─────────────────┴────────────────────────────┘\n"
      ]
     },
     "metadata": {},
     "output_type": "display_data"
    },
    {
     "data": {
      "text/html": [
       "<pre style=\"white-space:pre;overflow-x:auto;line-height:normal;font-family:Menlo,'DejaVu Sans Mono',consolas,'Courier New',monospace\"><span style=\"font-weight: bold\"> Total params: </span><span style=\"color: #00af00; text-decoration-color: #00af00\">2,634,049</span> (10.05 MB)\n",
       "</pre>\n"
      ],
      "text/plain": [
       "\u001b[1m Total params: \u001b[0m\u001b[38;5;34m2,634,049\u001b[0m (10.05 MB)\n"
      ]
     },
     "metadata": {},
     "output_type": "display_data"
    },
    {
     "data": {
      "text/html": [
       "<pre style=\"white-space:pre;overflow-x:auto;line-height:normal;font-family:Menlo,'DejaVu Sans Mono',consolas,'Courier New',monospace\"><span style=\"font-weight: bold\"> Trainable params: </span><span style=\"color: #00af00; text-decoration-color: #00af00\">2,634,049</span> (10.05 MB)\n",
       "</pre>\n"
      ],
      "text/plain": [
       "\u001b[1m Trainable params: \u001b[0m\u001b[38;5;34m2,634,049\u001b[0m (10.05 MB)\n"
      ]
     },
     "metadata": {},
     "output_type": "display_data"
    },
    {
     "data": {
      "text/html": [
       "<pre style=\"white-space:pre;overflow-x:auto;line-height:normal;font-family:Menlo,'DejaVu Sans Mono',consolas,'Courier New',monospace\"><span style=\"font-weight: bold\"> Non-trainable params: </span><span style=\"color: #00af00; text-decoration-color: #00af00\">0</span> (0.00 B)\n",
       "</pre>\n"
      ],
      "text/plain": [
       "\u001b[1m Non-trainable params: \u001b[0m\u001b[38;5;34m0\u001b[0m (0.00 B)\n"
      ]
     },
     "metadata": {},
     "output_type": "display_data"
    }
   ],
   "source": [
    "import tensorflow as tf\n",
    "inputs=keras.Input(shape=(None,), dtype=\"int64\")\n",
    "embedded= layers.Embedding(input_dim=max_tokens, output_dim=256,\n",
    " mask_zero=True)(inputs)\n",
    "# We have turned mask on because training bi-directional LSTM can take longer time\n",
    "x= layers.Bidirectional(layers.LSTM(32))(embedded)\n",
    "x=layers.Dropout(0.5)(x)\n",
    "outputs= layers.Dense(1,activation=\"sigmoid\")(x)\n",
    "model = keras.Model(inputs, outputs)\n",
    "model.compile(optimizer=\"rmsprop\",\n",
    "              loss=\"binary_crossentropy\",\n",
    "              metrics=[\"accuracy\"])\n",
    "\n",
    "model.summary()"
   ]
  },
  {
   "cell_type": "markdown",
   "id": "fca42b7f-35ad-4dae-bca8-cd17a79dbe30",
   "metadata": {},
   "source": [
    "Fitting the model on our testing data:\n",
    "\r\n"
   ]
  },
  {
   "cell_type": "code",
   "execution_count": 27,
   "id": "4283be90-8f0b-4985-ba00-6f6ab6be65a8",
   "metadata": {},
   "outputs": [
    {
     "name": "stdout",
     "output_type": "stream",
     "text": [
      "Epoch 1/10\n",
      "\u001b[1m4/4\u001b[0m \u001b[32m━━━━━━━━━━━━━━━━━━━━\u001b[0m\u001b[37m\u001b[0m \u001b[1m23s\u001b[0m 4s/step - accuracy: 0.5226 - loss: 0.6918 - val_accuracy: 0.4982 - val_loss: 0.6931\n",
      "Epoch 2/10\n",
      "\u001b[1m4/4\u001b[0m \u001b[32m━━━━━━━━━━━━━━━━━━━━\u001b[0m\u001b[37m\u001b[0m \u001b[1m11s\u001b[0m 4s/step - accuracy: 0.6032 - loss: 0.6872 - val_accuracy: 0.5197 - val_loss: 0.6925\n",
      "Epoch 3/10\n",
      "\u001b[1m4/4\u001b[0m \u001b[32m━━━━━━━━━━━━━━━━━━━━\u001b[0m\u001b[37m\u001b[0m \u001b[1m12s\u001b[0m 4s/step - accuracy: 0.7837 - loss: 0.6763 - val_accuracy: 0.5188 - val_loss: 0.6921\n",
      "Epoch 4/10\n",
      "\u001b[1m4/4\u001b[0m \u001b[32m━━━━━━━━━━━━━━━━━━━━\u001b[0m\u001b[37m\u001b[0m \u001b[1m12s\u001b[0m 4s/step - accuracy: 0.8556 - loss: 0.6620 - val_accuracy: 0.5247 - val_loss: 0.6916\n",
      "Epoch 5/10\n",
      "\u001b[1m4/4\u001b[0m \u001b[32m━━━━━━━━━━━━━━━━━━━━\u001b[0m\u001b[37m\u001b[0m \u001b[1m12s\u001b[0m 4s/step - accuracy: 0.9340 - loss: 0.6511 - val_accuracy: 0.5335 - val_loss: 0.6910\n",
      "Epoch 6/10\n",
      "\u001b[1m4/4\u001b[0m \u001b[32m━━━━━━━━━━━━━━━━━━━━\u001b[0m\u001b[37m\u001b[0m \u001b[1m12s\u001b[0m 4s/step - accuracy: 0.9048 - loss: 0.6312 - val_accuracy: 0.5441 - val_loss: 0.6898\n",
      "Epoch 7/10\n",
      "\u001b[1m4/4\u001b[0m \u001b[32m━━━━━━━━━━━━━━━━━━━━\u001b[0m\u001b[37m\u001b[0m \u001b[1m11s\u001b[0m 4s/step - accuracy: 0.9600 - loss: 0.6107 - val_accuracy: 0.5514 - val_loss: 0.6877\n",
      "Epoch 8/10\n",
      "\u001b[1m4/4\u001b[0m \u001b[32m━━━━━━━━━━━━━━━━━━━━\u001b[0m\u001b[37m\u001b[0m \u001b[1m12s\u001b[0m 4s/step - accuracy: 0.9847 - loss: 0.5755 - val_accuracy: 0.5562 - val_loss: 0.6855\n",
      "Epoch 9/10\n",
      "\u001b[1m4/4\u001b[0m \u001b[32m━━━━━━━━━━━━━━━━━━━━\u001b[0m\u001b[37m\u001b[0m \u001b[1m13s\u001b[0m 4s/step - accuracy: 0.9630 - loss: 0.5245 - val_accuracy: 0.5554 - val_loss: 0.6813\n",
      "Epoch 10/10\n",
      "\u001b[1m4/4\u001b[0m \u001b[32m━━━━━━━━━━━━━━━━━━━━\u001b[0m\u001b[37m\u001b[0m \u001b[1m12s\u001b[0m 4s/step - accuracy: 0.9507 - loss: 0.4501 - val_accuracy: 0.5017 - val_loss: 0.8331\n"
     ]
    },
    {
     "data": {
      "text/plain": [
       "<keras.src.callbacks.history.History at 0x2bebf1874d0>"
      ]
     },
     "execution_count": 27,
     "metadata": {},
     "output_type": "execute_result"
    }
   ],
   "source": [
    "model.fit(int_train_ds,\n",
    "          validation_data=int_val_ds,\n",
    "          epochs=10)"
   ]
  },
  {
   "cell_type": "markdown",
   "id": "56eb8bd3-bf8e-44af-a976-11688b008204",
   "metadata": {},
   "source": [
    "Testing this model:"
   ]
  },
  {
   "cell_type": "code",
   "execution_count": 28,
   "id": "90edabfe-772a-4e9b-93bb-98406fa4d8e9",
   "metadata": {},
   "outputs": [
    {
     "name": "stdout",
     "output_type": "stream",
     "text": [
      "\u001b[1m782/782\u001b[0m \u001b[32m━━━━━━━━━━━━━━━━━━━━\u001b[0m\u001b[37m\u001b[0m \u001b[1m30s\u001b[0m 38ms/step - accuracy: 0.5012 - loss: 0.8357\n",
      "\n",
      " Model's accuracy: 50.19 %\n"
     ]
    }
   ],
   "source": [
    "print(\"\\n Model's accuracy:\",round (model.evaluate(int_test_ds)[1]*100,2),\"%\")"
   ]
  },
  {
   "cell_type": "markdown",
   "id": "89bba67d-3257-45a3-8782-30360dff2548",
   "metadata": {},
   "source": [
    "Hence, our first model's accuracy with LSTM and embedding is just 55.44% which is quite low. we will now try a pre-trained word embedding.82 "
   ]
  },
  {
   "cell_type": "markdown",
   "id": "8a86ee97-ce6a-4db2-8fe7-4e2f71f14982",
   "metadata": {},
   "source": [
    "Model Construction - Pretrained word embedded "
   ]
  },
  {
   "cell_type": "markdown",
   "id": "81a56e4d-c0af-4328-8b55-63ac415a1697",
   "metadata": {},
   "source": [
    "Parsing after downloading the glove pretrained work-embedding"
   ]
  },
  {
   "cell_type": "code",
   "execution_count": 33,
   "id": "2f7128bd-f780-455d-9cb1-6da9fe4808b1",
   "metadata": {},
   "outputs": [],
   "source": [
    "import numpy as np\r",
    "path_to_glove_file = \"C:/Users/varshitha/Downloads/glove.6B/glove.6B.100d.txt\"\n",
    "\n",
    "embeddings_index={} \n",
    "with open(path_to_glove_file, encoding = \"utf-8\") as f:\n",
    "    for line in f:\n",
    "        words,coefs=line.split(maxsplit=1)\n",
    "        coefs = np.fromstring(coefs,\"f\", sep=\" \")\n",
    "        embeddings_index[words]=coefs "
   ]
  },
  {
   "cell_type": "markdown",
   "id": "72eb77ae-89e0-45fa-bfd3-af7d9f305a3f",
   "metadata": {},
   "source": [
    "Preparing a matrix of GloVe :"
   ]
  },
  {
   "cell_type": "code",
   "execution_count": 34,
   "id": "97063252-8e06-4fe5-8e27-4480972deeff",
   "metadata": {},
   "outputs": [],
   "source": [
    "embedding_dim=100\n",
    "vocabulary = text_vectorization.get_vocabulary()\n",
    "word_index = dict(zip(vocabulary,range(len(vocabulary))))\n",
    "embedding_matrix = np.zeros((max_tokens,embedding_dim))\n",
    "for word, i in word_index.items():\n",
    "     if i<max_tokens:\n",
    "          embedding_vector = embeddings_index.get(word)\n",
    "     if embedding_vector is not None :\n",
    "         embedding_matrix[i] = embedding_vector"
   ]
  },
  {
   "cell_type": "markdown",
   "id": "736c63f0-63ed-4e56-9910-701665ee0413",
   "metadata": {},
   "source": [
    "Making an embedding layer with this embedded matrix :"
   ]
  },
  {
   "cell_type": "code",
   "execution_count": 35,
   "id": "cd836006-3a6e-412b-8c75-ebe812b49d66",
   "metadata": {},
   "outputs": [],
   "source": [
    "embedding_layer= layers.Embedding(max_tokens,\n",
    "                                  embedding_dim,\n",
    "                                  embeddings_initializer=keras.initializers.\n",
    " Constant(embedding_matrix),\n",
    "                                  trainable=False,\n",
    "                                  mask_zero=True)"
   ]
  },
  {
   "cell_type": "markdown",
   "id": "633ac2c5-541b-43ff-a4cb-13dd8c696382",
   "metadata": {},
   "source": [
    "Making a final model with pretrained work-embedding :"
   ]
  },
  {
   "cell_type": "code",
   "execution_count": 36,
   "id": "6f45452b-8415-4015-acb3-75304c157ff9",
   "metadata": {},
   "outputs": [
    {
     "data": {
      "text/html": [
       "<pre style=\"white-space:pre;overflow-x:auto;line-height:normal;font-family:Menlo,'DejaVu Sans Mono',consolas,'Courier New',monospace\"><span style=\"font-weight: bold\">Model: \"functional_5\"</span>\n",
       "</pre>\n"
      ],
      "text/plain": [
       "\u001b[1mModel: \"functional_5\"\u001b[0m\n"
      ]
     },
     "metadata": {},
     "output_type": "display_data"
    },
    {
     "data": {
      "text/html": [
       "<pre style=\"white-space:pre;overflow-x:auto;line-height:normal;font-family:Menlo,'DejaVu Sans Mono',consolas,'Courier New',monospace\">┏━━━━━━━━━━━━━━━━━━━━━━━━━━━━━━━┳━━━━━━━━━━━━━━━━━━━━━━━━━━━┳━━━━━━━━━━━━━━━━━┳━━━━━━━━━━━━━━━━━━━━━━━━━━━━┓\n",
       "┃<span style=\"font-weight: bold\"> Layer (type)                  </span>┃<span style=\"font-weight: bold\"> Output Shape              </span>┃<span style=\"font-weight: bold\">         Param # </span>┃<span style=\"font-weight: bold\"> Connected to               </span>┃\n",
       "┡━━━━━━━━━━━━━━━━━━━━━━━━━━━━━━━╇━━━━━━━━━━━━━━━━━━━━━━━━━━━╇━━━━━━━━━━━━━━━━━╇━━━━━━━━━━━━━━━━━━━━━━━━━━━━┩\n",
       "│ input_layer_2 (<span style=\"color: #0087ff; text-decoration-color: #0087ff\">InputLayer</span>)    │ (<span style=\"color: #00d7ff; text-decoration-color: #00d7ff\">None</span>, <span style=\"color: #00d7ff; text-decoration-color: #00d7ff\">None</span>)              │               <span style=\"color: #00af00; text-decoration-color: #00af00\">0</span> │ -                          │\n",
       "├───────────────────────────────┼───────────────────────────┼─────────────────┼────────────────────────────┤\n",
       "│ embedding_2 (<span style=\"color: #0087ff; text-decoration-color: #0087ff\">Embedding</span>)       │ (<span style=\"color: #00d7ff; text-decoration-color: #00d7ff\">None</span>, <span style=\"color: #00d7ff; text-decoration-color: #00d7ff\">None</span>, <span style=\"color: #00af00; text-decoration-color: #00af00\">100</span>)         │       <span style=\"color: #00af00; text-decoration-color: #00af00\">1,000,000</span> │ input_layer_2[<span style=\"color: #00af00; text-decoration-color: #00af00\">0</span>][<span style=\"color: #00af00; text-decoration-color: #00af00\">0</span>]        │\n",
       "├───────────────────────────────┼───────────────────────────┼─────────────────┼────────────────────────────┤\n",
       "│ not_equal_2 (<span style=\"color: #0087ff; text-decoration-color: #0087ff\">NotEqual</span>)        │ (<span style=\"color: #00d7ff; text-decoration-color: #00d7ff\">None</span>, <span style=\"color: #00d7ff; text-decoration-color: #00d7ff\">None</span>)              │               <span style=\"color: #00af00; text-decoration-color: #00af00\">0</span> │ input_layer_2[<span style=\"color: #00af00; text-decoration-color: #00af00\">0</span>][<span style=\"color: #00af00; text-decoration-color: #00af00\">0</span>]        │\n",
       "├───────────────────────────────┼───────────────────────────┼─────────────────┼────────────────────────────┤\n",
       "│ bidirectional_2               │ (<span style=\"color: #00d7ff; text-decoration-color: #00d7ff\">None</span>, <span style=\"color: #00af00; text-decoration-color: #00af00\">64</span>)                │          <span style=\"color: #00af00; text-decoration-color: #00af00\">34,048</span> │ embedding_2[<span style=\"color: #00af00; text-decoration-color: #00af00\">0</span>][<span style=\"color: #00af00; text-decoration-color: #00af00\">0</span>],         │\n",
       "│ (<span style=\"color: #0087ff; text-decoration-color: #0087ff\">Bidirectional</span>)               │                           │                 │ not_equal_2[<span style=\"color: #00af00; text-decoration-color: #00af00\">0</span>][<span style=\"color: #00af00; text-decoration-color: #00af00\">0</span>]          │\n",
       "├───────────────────────────────┼───────────────────────────┼─────────────────┼────────────────────────────┤\n",
       "│ dropout_2 (<span style=\"color: #0087ff; text-decoration-color: #0087ff\">Dropout</span>)           │ (<span style=\"color: #00d7ff; text-decoration-color: #00d7ff\">None</span>, <span style=\"color: #00af00; text-decoration-color: #00af00\">64</span>)                │               <span style=\"color: #00af00; text-decoration-color: #00af00\">0</span> │ bidirectional_2[<span style=\"color: #00af00; text-decoration-color: #00af00\">0</span>][<span style=\"color: #00af00; text-decoration-color: #00af00\">0</span>]      │\n",
       "├───────────────────────────────┼───────────────────────────┼─────────────────┼────────────────────────────┤\n",
       "│ dense_2 (<span style=\"color: #0087ff; text-decoration-color: #0087ff\">Dense</span>)               │ (<span style=\"color: #00d7ff; text-decoration-color: #00d7ff\">None</span>, <span style=\"color: #00af00; text-decoration-color: #00af00\">1</span>)                 │              <span style=\"color: #00af00; text-decoration-color: #00af00\">65</span> │ dropout_2[<span style=\"color: #00af00; text-decoration-color: #00af00\">0</span>][<span style=\"color: #00af00; text-decoration-color: #00af00\">0</span>]            │\n",
       "└───────────────────────────────┴───────────────────────────┴─────────────────┴────────────────────────────┘\n",
       "</pre>\n"
      ],
      "text/plain": [
       "┏━━━━━━━━━━━━━━━━━━━━━━━━━━━━━━━┳━━━━━━━━━━━━━━━━━━━━━━━━━━━┳━━━━━━━━━━━━━━━━━┳━━━━━━━━━━━━━━━━━━━━━━━━━━━━┓\n",
       "┃\u001b[1m \u001b[0m\u001b[1mLayer (type)                 \u001b[0m\u001b[1m \u001b[0m┃\u001b[1m \u001b[0m\u001b[1mOutput Shape             \u001b[0m\u001b[1m \u001b[0m┃\u001b[1m \u001b[0m\u001b[1m        Param #\u001b[0m\u001b[1m \u001b[0m┃\u001b[1m \u001b[0m\u001b[1mConnected to              \u001b[0m\u001b[1m \u001b[0m┃\n",
       "┡━━━━━━━━━━━━━━━━━━━━━━━━━━━━━━━╇━━━━━━━━━━━━━━━━━━━━━━━━━━━╇━━━━━━━━━━━━━━━━━╇━━━━━━━━━━━━━━━━━━━━━━━━━━━━┩\n",
       "│ input_layer_2 (\u001b[38;5;33mInputLayer\u001b[0m)    │ (\u001b[38;5;45mNone\u001b[0m, \u001b[38;5;45mNone\u001b[0m)              │               \u001b[38;5;34m0\u001b[0m │ -                          │\n",
       "├───────────────────────────────┼───────────────────────────┼─────────────────┼────────────────────────────┤\n",
       "│ embedding_2 (\u001b[38;5;33mEmbedding\u001b[0m)       │ (\u001b[38;5;45mNone\u001b[0m, \u001b[38;5;45mNone\u001b[0m, \u001b[38;5;34m100\u001b[0m)         │       \u001b[38;5;34m1,000,000\u001b[0m │ input_layer_2[\u001b[38;5;34m0\u001b[0m][\u001b[38;5;34m0\u001b[0m]        │\n",
       "├───────────────────────────────┼───────────────────────────┼─────────────────┼────────────────────────────┤\n",
       "│ not_equal_2 (\u001b[38;5;33mNotEqual\u001b[0m)        │ (\u001b[38;5;45mNone\u001b[0m, \u001b[38;5;45mNone\u001b[0m)              │               \u001b[38;5;34m0\u001b[0m │ input_layer_2[\u001b[38;5;34m0\u001b[0m][\u001b[38;5;34m0\u001b[0m]        │\n",
       "├───────────────────────────────┼───────────────────────────┼─────────────────┼────────────────────────────┤\n",
       "│ bidirectional_2               │ (\u001b[38;5;45mNone\u001b[0m, \u001b[38;5;34m64\u001b[0m)                │          \u001b[38;5;34m34,048\u001b[0m │ embedding_2[\u001b[38;5;34m0\u001b[0m][\u001b[38;5;34m0\u001b[0m],         │\n",
       "│ (\u001b[38;5;33mBidirectional\u001b[0m)               │                           │                 │ not_equal_2[\u001b[38;5;34m0\u001b[0m][\u001b[38;5;34m0\u001b[0m]          │\n",
       "├───────────────────────────────┼───────────────────────────┼─────────────────┼────────────────────────────┤\n",
       "│ dropout_2 (\u001b[38;5;33mDropout\u001b[0m)           │ (\u001b[38;5;45mNone\u001b[0m, \u001b[38;5;34m64\u001b[0m)                │               \u001b[38;5;34m0\u001b[0m │ bidirectional_2[\u001b[38;5;34m0\u001b[0m][\u001b[38;5;34m0\u001b[0m]      │\n",
       "├───────────────────────────────┼───────────────────────────┼─────────────────┼────────────────────────────┤\n",
       "│ dense_2 (\u001b[38;5;33mDense\u001b[0m)               │ (\u001b[38;5;45mNone\u001b[0m, \u001b[38;5;34m1\u001b[0m)                 │              \u001b[38;5;34m65\u001b[0m │ dropout_2[\u001b[38;5;34m0\u001b[0m][\u001b[38;5;34m0\u001b[0m]            │\n",
       "└───────────────────────────────┴───────────────────────────┴─────────────────┴────────────────────────────┘\n"
      ]
     },
     "metadata": {},
     "output_type": "display_data"
    },
    {
     "data": {
      "text/html": [
       "<pre style=\"white-space:pre;overflow-x:auto;line-height:normal;font-family:Menlo,'DejaVu Sans Mono',consolas,'Courier New',monospace\"><span style=\"font-weight: bold\"> Total params: </span><span style=\"color: #00af00; text-decoration-color: #00af00\">1,034,113</span> (3.94 MB)\n",
       "</pre>\n"
      ],
      "text/plain": [
       "\u001b[1m Total params: \u001b[0m\u001b[38;5;34m1,034,113\u001b[0m (3.94 MB)\n"
      ]
     },
     "metadata": {},
     "output_type": "display_data"
    },
    {
     "data": {
      "text/html": [
       "<pre style=\"white-space:pre;overflow-x:auto;line-height:normal;font-family:Menlo,'DejaVu Sans Mono',consolas,'Courier New',monospace\"><span style=\"font-weight: bold\"> Trainable params: </span><span style=\"color: #00af00; text-decoration-color: #00af00\">1,034,113</span> (3.94 MB)\n",
       "</pre>\n"
      ],
      "text/plain": [
       "\u001b[1m Trainable params: \u001b[0m\u001b[38;5;34m1,034,113\u001b[0m (3.94 MB)\n"
      ]
     },
     "metadata": {},
     "output_type": "display_data"
    },
    {
     "data": {
      "text/html": [
       "<pre style=\"white-space:pre;overflow-x:auto;line-height:normal;font-family:Menlo,'DejaVu Sans Mono',consolas,'Courier New',monospace\"><span style=\"font-weight: bold\"> Non-trainable params: </span><span style=\"color: #00af00; text-decoration-color: #00af00\">0</span> (0.00 B)\n",
       "</pre>\n"
      ],
      "text/plain": [
       "\u001b[1m Non-trainable params: \u001b[0m\u001b[38;5;34m0\u001b[0m (0.00 B)\n"
      ]
     },
     "metadata": {},
     "output_type": "display_data"
    }
   ],
   "source": [
    "inputs = keras.Input(shape=(None,), dtype=\"int64\")\n",
    "embedded = embedding_layer(inputs)\n",
    "x = layers.Bidirectional(layers.LSTM(32))(embedded)\n",
    "x = layers.Dropout(0.5)(x)\n",
    "outputs = layers.Dense(1, activation=\"sigmoid\")(x)\n",
    "model = keras.Model(inputs, outputs)\n",
    "model.compile(optimizer=\"rmsprop\",\n",
    "               loss=\"binary_crossentropy\",\n",
    "               metrics=[\"accuracy\"])\n",
    "model.summary()\n",
    "callbacks = [ keras.callbacks.ModelCheckpoint(\"C:/Users/varshitha/Downloads/aclImdb_v1/aclImdb/glove_embeddings_sequence_model.keras\",\n",
    "                                               save_best_only=True)\n",
    "]"
   ]
  },
  {
   "cell_type": "markdown",
   "id": "aa7d3d82-4607-4956-bd6f-cf3f6e539ea6",
   "metadata": {},
   "source": [
    "Training this model on our dataset :\n",
    "\n"
   ]
  },
  {
   "cell_type": "code",
   "execution_count": 37,
   "id": "0555f503-7394-42b0-b478-721213986e55",
   "metadata": {},
   "outputs": [
    {
     "name": "stdout",
     "output_type": "stream",
     "text": [
      "Epoch 1/10\n",
      "\u001b[1m4/4\u001b[0m \u001b[32m━━━━━━━━━━━━━━━━━━━━\u001b[0m\u001b[37m\u001b[0m \u001b[1m41s\u001b[0m 10s/step - accuracy: 0.4906 - loss: 0.7368 - val_accuracy: 0.4999 - val_loss: 0.7029\n",
      "Epoch 2/10\n",
      "\u001b[1m4/4\u001b[0m \u001b[32m━━━━━━━━━━━━━━━━━━━━\u001b[0m\u001b[37m\u001b[0m \u001b[1m40s\u001b[0m 9s/step - accuracy: 0.5486 - loss: 0.6926 - val_accuracy: 0.5317 - val_loss: 0.6893\n",
      "Epoch 3/10\n",
      "\u001b[1m4/4\u001b[0m \u001b[32m━━━━━━━━━━━━━━━━━━━━\u001b[0m\u001b[37m\u001b[0m \u001b[1m37s\u001b[0m 8s/step - accuracy: 0.6558 - loss: 0.6394 - val_accuracy: 0.5038 - val_loss: 0.7104\n",
      "Epoch 4/10\n",
      "\u001b[1m4/4\u001b[0m \u001b[32m━━━━━━━━━━━━━━━━━━━━\u001b[0m\u001b[37m\u001b[0m \u001b[1m28s\u001b[0m 9s/step - accuracy: 0.5860 - loss: 0.6914 - val_accuracy: 0.5431 - val_loss: 0.6874\n",
      "Epoch 5/10\n",
      "\u001b[1m4/4\u001b[0m \u001b[32m━━━━━━━━━━━━━━━━━━━━\u001b[0m\u001b[37m\u001b[0m \u001b[1m27s\u001b[0m 9s/step - accuracy: 0.6252 - loss: 0.6620 - val_accuracy: 0.5547 - val_loss: 0.6845\n",
      "Epoch 6/10\n",
      "\u001b[1m4/4\u001b[0m \u001b[32m━━━━━━━━━━━━━━━━━━━━\u001b[0m\u001b[37m\u001b[0m \u001b[1m24s\u001b[0m 8s/step - accuracy: 0.6975 - loss: 0.6273 - val_accuracy: 0.5353 - val_loss: 0.6896\n",
      "Epoch 7/10\n",
      "\u001b[1m4/4\u001b[0m \u001b[32m━━━━━━━━━━━━━━━━━━━━\u001b[0m\u001b[37m\u001b[0m \u001b[1m27s\u001b[0m 9s/step - accuracy: 0.6270 - loss: 0.6577 - val_accuracy: 0.5706 - val_loss: 0.6812\n",
      "Epoch 8/10\n",
      "\u001b[1m4/4\u001b[0m \u001b[32m━━━━━━━━━━━━━━━━━━━━\u001b[0m\u001b[37m\u001b[0m \u001b[1m39s\u001b[0m 8s/step - accuracy: 0.6948 - loss: 0.6232 - val_accuracy: 0.5380 - val_loss: 0.6892\n",
      "Epoch 9/10\n",
      "\u001b[1m4/4\u001b[0m \u001b[32m━━━━━━━━━━━━━━━━━━━━\u001b[0m\u001b[37m\u001b[0m \u001b[1m54s\u001b[0m 18s/step - accuracy: 0.7139 - loss: 0.5944 - val_accuracy: 0.5730 - val_loss: 0.6793\n",
      "Epoch 10/10\n",
      "\u001b[1m4/4\u001b[0m \u001b[32m━━━━━━━━━━━━━━━━━━━━\u001b[0m\u001b[37m\u001b[0m \u001b[1m53s\u001b[0m 17s/step - accuracy: 0.7682 - loss: 0.5537 - val_accuracy: 0.5334 - val_loss: 0.6954\n"
     ]
    },
    {
     "data": {
      "text/plain": [
       "<keras.src.callbacks.history.History at 0x2bed611db50>"
      ]
     },
     "execution_count": 37,
     "metadata": {},
     "output_type": "execute_result"
    }
   ],
   "source": [
    "model.fit (int_train_ds, validation_data=int_val_ds , epochs= 10,\n",
    "callbacks=callbacks) "
   ]
  },
  {
   "cell_type": "markdown",
   "id": "c7ae5a09-0b4e-4fa1-b3e5-445317714ec1",
   "metadata": {},
   "source": [
    "Testing this Model on our dataset:"
   ]
  },
  {
   "cell_type": "code",
   "execution_count": 38,
   "id": "60866644-c55e-4344-9ba1-3040c8f2f99c",
   "metadata": {},
   "outputs": [
    {
     "name": "stdout",
     "output_type": "stream",
     "text": [
      "\u001b[1m782/782\u001b[0m \u001b[32m━━━━━━━━━━━━━━━━━━━━\u001b[0m\u001b[37m\u001b[0m \u001b[1m199s\u001b[0m 253ms/step - accuracy: 0.5301 - loss: 0.6969\n",
      "\n",
      " Model's Accuracy : 53.04\n"
     ]
    }
   ],
   "source": [
    "print(\"\\n Model's Accuracy :\", round (model.evaluate (int_test_ds)[1]*100,2))"
   ]
  },
  {
   "cell_type": "markdown",
   "id": "898f7862-55d2-4ecd-8642-1a41ac52e4ff",
   "metadata": {},
   "source": [
    "Pre-trained embedding is not really helpful in this case. Hence,training from scratch worked better for this dataset. Now, we will try to increase training sample size and then train our model again:"
   ]
  },
  {
   "cell_type": "markdown",
   "id": "866a0cb5-01b2-4c10-8358-95b31cb3749b",
   "metadata": {},
   "source": [
    "Increase training size by 7000 samples"
   ]
  },
  {
   "cell_type": "code",
   "execution_count": 39,
   "id": "3922ee17-13e8-4361-b2b8-bc87007a3f46",
   "metadata": {},
   "outputs": [],
   "source": [
    "for category in (\"neg\",\"pos\"):\n",
    "    files= os.listdir(train_dir/category)\n",
    "    random.Random(1337).shuffle(files)\n",
    "    num_train_samples =3500\n",
    "    train_file = files[:num_train_samples]\n",
    "    for fname in train_file:\n",
    "        shutil.move(train_dir/category/fname,\n",
    "                    train_dir_1/category,fname)"
   ]
  },
  {
   "cell_type": "markdown",
   "id": "aa2d61fa-225a-4ed3-b881-c98e38f761ac",
   "metadata": {},
   "source": [
    "Making a training dataset again"
   ]
  },
  {
   "cell_type": "code",
   "execution_count": 41,
   "id": "bfe24d73-6c25-4249-98d1-611661e4fc9c",
   "metadata": {},
   "outputs": [
    {
     "name": "stdout",
     "output_type": "stream",
     "text": [
      "Found 7100 files belonging to 2 classes.\n"
     ]
    }
   ],
   "source": [
    "train = keras.utils.text_dataset_from_directory(train_dir_1,batch_size=batch_size)\n",
    "int_train_ds = train.map(\n",
    "lambda x, y : (text_vectorization(x) , y ), num_parallel_calls=4)"
   ]
  },
  {
   "cell_type": "markdown",
   "id": "7c9edd79-cfb6-4ced-922a-95ff5c051131",
   "metadata": {},
   "source": [
    "Training the last pretrained embedding model with new training dataset :"
   ]
  },
  {
   "cell_type": "code",
   "execution_count": 44,
   "id": "a023ad33-8efb-4163-ae67-50e55599dfe6",
   "metadata": {},
   "outputs": [
    {
     "name": "stdout",
     "output_type": "stream",
     "text": [
      "Epoch 1/10\n",
      "\u001b[1m222/222\u001b[0m \u001b[32m━━━━━━━━━━━━━━━━━━━━\u001b[0m\u001b[37m\u001b[0m \u001b[1m139s\u001b[0m 621ms/step - accuracy: 0.5844 - loss: 0.6709 - val_accuracy: 0.6898 - val_loss: 0.5861\n",
      "Epoch 2/10\n",
      "\u001b[1m222/222\u001b[0m \u001b[32m━━━━━━━━━━━━━━━━━━━━\u001b[0m\u001b[37m\u001b[0m \u001b[1m86s\u001b[0m 385ms/step - accuracy: 0.7198 - loss: 0.5662 - val_accuracy: 0.7718 - val_loss: 0.4806\n",
      "Epoch 3/10\n",
      "\u001b[1m222/222\u001b[0m \u001b[32m━━━━━━━━━━━━━━━━━━━━\u001b[0m\u001b[37m\u001b[0m \u001b[1m140s\u001b[0m 373ms/step - accuracy: 0.7685 - loss: 0.4908 - val_accuracy: 0.7652 - val_loss: 0.5023\n",
      "Epoch 4/10\n",
      "\u001b[1m222/222\u001b[0m \u001b[32m━━━━━━━━━━━━━━━━━━━━\u001b[0m\u001b[37m\u001b[0m \u001b[1m104s\u001b[0m 470ms/step - accuracy: 0.8033 - loss: 0.4349 - val_accuracy: 0.8094 - val_loss: 0.4181\n",
      "Epoch 5/10\n",
      "\u001b[1m222/222\u001b[0m \u001b[32m━━━━━━━━━━━━━━━━━━━━\u001b[0m\u001b[37m\u001b[0m \u001b[1m106s\u001b[0m 478ms/step - accuracy: 0.8297 - loss: 0.3894 - val_accuracy: 0.8149 - val_loss: 0.4129\n",
      "Epoch 6/10\n",
      "\u001b[1m222/222\u001b[0m \u001b[32m━━━━━━━━━━━━━━━━━━━━\u001b[0m\u001b[37m\u001b[0m \u001b[1m84s\u001b[0m 378ms/step - accuracy: 0.8478 - loss: 0.3579 - val_accuracy: 0.8029 - val_loss: 0.4538\n",
      "Epoch 7/10\n",
      "\u001b[1m222/222\u001b[0m \u001b[32m━━━━━━━━━━━━━━━━━━━━\u001b[0m\u001b[37m\u001b[0m \u001b[1m144s\u001b[0m 384ms/step - accuracy: 0.8670 - loss: 0.3169 - val_accuracy: 0.8287 - val_loss: 0.3922\n",
      "Epoch 8/10\n",
      "\u001b[1m222/222\u001b[0m \u001b[32m━━━━━━━━━━━━━━━━━━━━\u001b[0m\u001b[37m\u001b[0m \u001b[1m84s\u001b[0m 379ms/step - accuracy: 0.8820 - loss: 0.2971 - val_accuracy: 0.8142 - val_loss: 0.4180\n",
      "Epoch 9/10\n",
      "\u001b[1m222/222\u001b[0m \u001b[32m━━━━━━━━━━━━━━━━━━━━\u001b[0m\u001b[37m\u001b[0m \u001b[1m85s\u001b[0m 381ms/step - accuracy: 0.8914 - loss: 0.2713 - val_accuracy: 0.8266 - val_loss: 0.3963\n",
      "Epoch 10/10\n",
      "\u001b[1m222/222\u001b[0m \u001b[32m━━━━━━━━━━━━━━━━━━━━\u001b[0m\u001b[37m\u001b[0m \u001b[1m88s\u001b[0m 396ms/step - accuracy: 0.8998 - loss: 0.2497 - val_accuracy: 0.8250 - val_loss: 0.4088\n"
     ]
    },
    {
     "data": {
      "text/plain": [
       "<keras.src.callbacks.history.History at 0x2bed0cd0d10>"
      ]
     },
     "execution_count": 44,
     "metadata": {},
     "output_type": "execute_result"
    }
   ],
   "source": [
    "model.fit(int_train_ds, validation_data=int_val_ds, epochs=10,\r",
    "callbacks=callbacks)\r"
   ]
  },
  {
   "cell_type": "markdown",
   "id": "923152f5-3b2f-4c10-bde0-7c01cbf7530c",
   "metadata": {},
   "source": [
    "Testing the model now :"
   ]
  },
  {
   "cell_type": "code",
   "execution_count": null,
   "id": "c9080ced-cd80-46b5-a551-db116ed51576",
   "metadata": {},
   "outputs": [],
   "source": [
    "print (\"\\n Model's Acurracy:\" ,round(model.evaluate(int_test_ds)[1]*100,2))"
   ]
  },
  {
   "cell_type": "markdown",
   "id": "18b39317-1e72-4cbb-89bd-86c06b77ee8a",
   "metadata": {},
   "source": [
    "Increasing samples did not really increase any acuracy.\n",
    "    \n",
    "Increasing training sample again by 7000"
   ]
  },
  {
   "cell_type": "code",
   "execution_count": 45,
   "id": "70761b57-a11e-42b4-908b-6a874b03d524",
   "metadata": {},
   "outputs": [],
   "source": [
    "for category in (\"neg\",\"pos\"):\n",
    "    files= os.listdir(train_dir/category)\n",
    "    random.Random(1337).shuffle(files)\n",
    "    num_train_samples = 3500\n",
    "    train_file = files[:num_train_samples]\n",
    "    for fname in train_file:\n",
    "        shutil.move(train_dir/category/fname,\n",
    "                    train_dir_1/category,fname)"
   ]
  },
  {
   "cell_type": "markdown",
   "id": "dc52e9df-5c61-4513-91b6-a07d0ef9a358",
   "metadata": {},
   "source": [
    "Reading a new training set:"
   ]
  },
  {
   "cell_type": "code",
   "execution_count": 47,
   "id": "9a1f6cfb-e407-4329-9d17-350cbf9f507b",
   "metadata": {},
   "outputs": [
    {
     "name": "stdout",
     "output_type": "stream",
     "text": [
      "Found 14100 files belonging to 2 classes.\n"
     ]
    }
   ],
   "source": [
    "train = keras.utils.text_dataset_from_directory(train_dir_1,batch_size=batch_size)\n",
    "int_train_ds = train.map(\n",
    "lambda x, y: (text_vectorization(x), y), num_parallel_calls=4)"
   ]
  },
  {
   "cell_type": "markdown",
   "id": "d1ee53ea-85f4-49fc-a100-6cf547782fb5",
   "metadata": {},
   "source": [
    "Training this model again "
   ]
  },
  {
   "cell_type": "code",
   "execution_count": 48,
   "id": "d40141a5-1ea2-4c22-b3e5-42d0f8a13ce5",
   "metadata": {},
   "outputs": [
    {
     "name": "stdout",
     "output_type": "stream",
     "text": [
      "Epoch 1/10\n",
      "\u001b[1m441/441\u001b[0m \u001b[32m━━━━━━━━━━━━━━━━━━━━\u001b[0m\u001b[37m\u001b[0m \u001b[1m197s\u001b[0m 445ms/step - accuracy: 0.8671 - loss: 0.3212 - val_accuracy: 0.8352 - val_loss: 0.3775\n",
      "Epoch 2/10\n",
      "\u001b[1m441/441\u001b[0m \u001b[32m━━━━━━━━━━━━━━━━━━━━\u001b[0m\u001b[37m\u001b[0m \u001b[1m162s\u001b[0m 366ms/step - accuracy: 0.8837 - loss: 0.2852 - val_accuracy: 0.8148 - val_loss: 0.4872\n",
      "Epoch 3/10\n",
      "\u001b[1m441/441\u001b[0m \u001b[32m━━━━━━━━━━━━━━━━━━━━\u001b[0m\u001b[37m\u001b[0m \u001b[1m151s\u001b[0m 341ms/step - accuracy: 0.8965 - loss: 0.2641 - val_accuracy: 0.8386 - val_loss: 0.3732\n",
      "Epoch 4/10\n",
      "\u001b[1m441/441\u001b[0m \u001b[32m━━━━━━━━━━━━━━━━━━━━\u001b[0m\u001b[37m\u001b[0m \u001b[1m145s\u001b[0m 329ms/step - accuracy: 0.9093 - loss: 0.2357 - val_accuracy: 0.8429 - val_loss: 0.4187\n",
      "Epoch 5/10\n",
      "\u001b[1m441/441\u001b[0m \u001b[32m━━━━━━━━━━━━━━━━━━━━\u001b[0m\u001b[37m\u001b[0m \u001b[1m147s\u001b[0m 334ms/step - accuracy: 0.9153 - loss: 0.2159 - val_accuracy: 0.8393 - val_loss: 0.4293\n",
      "Epoch 6/10\n",
      "\u001b[1m441/441\u001b[0m \u001b[32m━━━━━━━━━━━━━━━━━━━━\u001b[0m\u001b[37m\u001b[0m \u001b[1m142s\u001b[0m 321ms/step - accuracy: 0.9274 - loss: 0.1928 - val_accuracy: 0.8322 - val_loss: 0.4755\n",
      "Epoch 7/10\n",
      "\u001b[1m441/441\u001b[0m \u001b[32m━━━━━━━━━━━━━━━━━━━━\u001b[0m\u001b[37m\u001b[0m \u001b[1m143s\u001b[0m 322ms/step - accuracy: 0.9361 - loss: 0.1704 - val_accuracy: 0.8375 - val_loss: 0.4606\n",
      "Epoch 8/10\n",
      "\u001b[1m441/441\u001b[0m \u001b[32m━━━━━━━━━━━━━━━━━━━━\u001b[0m\u001b[37m\u001b[0m \u001b[1m143s\u001b[0m 324ms/step - accuracy: 0.9441 - loss: 0.1482 - val_accuracy: 0.8333 - val_loss: 0.5175\n",
      "Epoch 9/10\n",
      "\u001b[1m441/441\u001b[0m \u001b[32m━━━━━━━━━━━━━━━━━━━━\u001b[0m\u001b[37m\u001b[0m \u001b[1m157s\u001b[0m 356ms/step - accuracy: 0.9544 - loss: 0.1259 - val_accuracy: 0.8307 - val_loss: 0.5537\n",
      "Epoch 10/10\n",
      "\u001b[1m441/441\u001b[0m \u001b[32m━━━━━━━━━━━━━━━━━━━━\u001b[0m\u001b[37m\u001b[0m \u001b[1m142s\u001b[0m 322ms/step - accuracy: 0.9641 - loss: 0.1095 - val_accuracy: 0.8253 - val_loss: 0.6179\n"
     ]
    },
    {
     "data": {
      "text/plain": [
       "<keras.src.callbacks.history.History at 0x2beebdb2d10>"
      ]
     },
     "execution_count": 48,
     "metadata": {},
     "output_type": "execute_result"
    }
   ],
   "source": [
    " model.fit(int_train_ds, validation_data=int_val_ds, epochs=10)"
   ]
  },
  {
   "cell_type": "markdown",
   "id": "83c8ac9e-0294-4e9b-bae1-c3fae1075ef8",
   "metadata": {},
   "source": [
    "Testing this model:"
   ]
  },
  {
   "cell_type": "code",
   "execution_count": null,
   "id": "e731e84e-5ed0-47c7-a144-b4bcba270847",
   "metadata": {},
   "outputs": [
    {
     "name": "stdout",
     "output_type": "stream",
     "text": [
      "\u001b[1m514/782\u001b[0m \u001b[32m━━━━━━━━━━━━━\u001b[0m\u001b[37m━━━━━━━\u001b[0m \u001b[1m21s\u001b[0m 79ms/step - accuracy: 0.8294 - loss: 0.6172"
     ]
    }
   ],
   "source": [
    "print(\"\\n Model's Accuracy:\",round(model.evaluate(int_test_ds)[1]*100,2))"
   ]
  }
 ],
 "metadata": {
  "kernelspec": {
   "display_name": "Python 3 (ipykernel)",
   "language": "python",
   "name": "python3"
  },
  "language_info": {
   "codemirror_mode": {
    "name": "ipython",
    "version": 3
   },
   "file_extension": ".py",
   "mimetype": "text/x-python",
   "name": "python",
   "nbconvert_exporter": "python",
   "pygments_lexer": "ipython3",
   "version": "3.11.7"
  }
 },
 "nbformat": 4,
 "nbformat_minor": 5
}
